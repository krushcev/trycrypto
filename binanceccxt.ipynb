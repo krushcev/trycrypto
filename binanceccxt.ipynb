{
  "nbformat": 4,
  "nbformat_minor": 0,
  "metadata": {
    "colab": {
      "name": "binanceccxt.ipynb",
      "provenance": [],
      "authorship_tag": "ABX9TyOgBsbTpk6XMsf4qJqRV2bS",
      "include_colab_link": true
    },
    "kernelspec": {
      "name": "python3",
      "display_name": "Python 3"
    },
    "language_info": {
      "name": "python"
    }
  },
  "cells": [
    {
      "cell_type": "markdown",
      "metadata": {
        "id": "view-in-github",
        "colab_type": "text"
      },
      "source": [
        "<a href=\"https://colab.research.google.com/github/krushcev/trycrypto/blob/master/binanceccxt.ipynb\" target=\"_parent\"><img src=\"https://colab.research.google.com/assets/colab-badge.svg\" alt=\"Open In Colab\"/></a>"
      ]
    },
    {
      "cell_type": "code",
      "metadata": {
        "id": "uRCFUomjDCdH"
      },
      "source": [
        "pip install ccxt"
      ],
      "execution_count": null,
      "outputs": []
    },
    {
      "cell_type": "code",
      "metadata": {
        "colab": {
          "base_uri": "https://localhost:8080/"
        },
        "id": "tNh6XfxZEMn7",
        "outputId": "f1d1025b-85de-4503-e899-782179436508"
      },
      "source": [
        "pip install pandas"
      ],
      "execution_count": 8,
      "outputs": [
        {
          "output_type": "stream",
          "text": [
            "Requirement already satisfied: pandas in /usr/local/lib/python3.7/dist-packages (1.1.5)\n",
            "Requirement already satisfied: python-dateutil>=2.7.3 in /usr/local/lib/python3.7/dist-packages (from pandas) (2.8.1)\n",
            "Requirement already satisfied: numpy>=1.15.4 in /usr/local/lib/python3.7/dist-packages (from pandas) (1.19.5)\n",
            "Requirement already satisfied: pytz>=2017.2 in /usr/local/lib/python3.7/dist-packages (from pandas) (2018.9)\n",
            "Requirement already satisfied: six>=1.5 in /usr/local/lib/python3.7/dist-packages (from python-dateutil>=2.7.3->pandas) (1.15.0)\n"
          ],
          "name": "stdout"
        }
      ]
    },
    {
      "cell_type": "code",
      "metadata": {
        "id": "-6jTG3E6Df1h"
      },
      "source": [
        "import ccxt\n",
        "import pandas as pd"
      ],
      "execution_count": 9,
      "outputs": []
    },
    {
      "cell_type": "code",
      "metadata": {
        "id": "_OH_zAOiDRVe"
      },
      "source": [
        "exchange = ccxt.binance()\n",
        "markets = exchange.load_markets()\n",
        "df = {}\n",
        "errp = 0"
      ],
      "execution_count": 20,
      "outputs": []
    },
    {
      "cell_type": "code",
      "metadata": {
        "id": "3PKr1HucH-SI"
      },
      "source": [
        "def is_consolidating(df, percentage=2):\n",
        "    recent_candlesticks = df[-15:]\n",
        "    last_close = df[-1:]['close'].values\n",
        "    \n",
        "    max_close = recent_candlesticks['close'].max()\n",
        "    min_close = recent_candlesticks['close'].min()\n",
        "\n",
        "    threshold = 1 - (percentage / 100)\n",
        "    if min_close > (max_close * threshold) and last_close != 50:\n",
        "        return True        \n",
        "\n",
        "    return False\n",
        "\n",
        "def is_on_weakness(df):\n",
        "    recent_candlesticks = df[-15:]\n",
        "    last_close = df[-1:]['close'].values\n",
        "    last_xdays = df[-2:]['close'].values\n",
        "\n",
        "    min_close = recent_candlesticks['close'].min()\n",
        "    if (last_xdays <= min_close).all() and (last_close != 50).all():\n",
        "        return True\n",
        "    \n",
        "    return False\n",
        "\n",
        "def is_breaking_out(df, percentage=10):\n",
        "    last_close = df[-1:]['close'].values\n",
        "\n",
        "    if is_consolidating(df[:-1], percentage=percentage):\n",
        "        recent_closes = df[-7:-1]\n",
        "\n",
        "        if last_close > recent_closes['close'].max():\n",
        "            return True"
      ],
      "execution_count": 22,
      "outputs": []
    },
    {
      "cell_type": "code",
      "metadata": {
        "id": "B5DcmaBqD7GN"
      },
      "source": [
        "for market in markets:\n",
        "  if '/BTC' in market:\n",
        "    try:\n",
        "      ohlc = exchange.fetch_ohlcv(market, timeframe='1d', limit=30)\n",
        "      df[market] = pd.DataFrame(ohlc, columns=['timestamp','open','high','low','close','volume'])\n",
        "      df[market]['timestamp'] = pd.to_datetime(df[market]['timestamp'], unit='ms')\n",
        "    except:\n",
        "      errp +=1\n",
        "    else:\n",
        "      if is_breaking_out(df=df[market]):\n",
        "        print(\"{} is breaking out!\".format(market))\n",
        "        print(df[market][-1:])\n",
        "      if is_consolidating(df=df[market], percentage=10):\n",
        "        print(\"{} is my new watchlist\".format(market))\n",
        "        print(df[market][-1:])\n",
        "      if is_on_weakness(df=df[market]):\n",
        "        print(\"{} is breaking out!\".format(market))\n",
        "        print(df[market][-1:])\n",
        "\n",
        "print(\"Error counts : {}\".format(errp))"
      ],
      "execution_count": null,
      "outputs": []
    }
  ]
}